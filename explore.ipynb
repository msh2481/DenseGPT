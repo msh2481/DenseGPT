{
 "cells": [
  {
   "cell_type": "code",
   "execution_count": 1,
   "metadata": {},
   "outputs": [],
   "source": [
    "import os\n",
    "from typing import Annotated, Any, Mapping, Optional\n",
    "\n",
    "import matplotlib.pyplot as plt\n",
    "import torch as t\n",
    "import torch.nn as nn\n",
    "import torch.nn.functional as F\n",
    "from beartype import beartype as typed\n",
    "from beartype.door import die_if_unbearable as assert_type\n",
    "from beartype.typing import Callable, Iterable\n",
    "from beartype.vale import Is\n",
    "from datasets import load_dataset\n",
    "from dvclive.huggingface import DVCLiveCallback\n",
    "from jaxtyping import Bool, Float, Int\n",
    "from torch import Tensor as TT\n",
    "from torch.utils.data import IterableDataset\n",
    "from transformers import AutoTokenizer\n",
    "\n",
    "from gpt import DenseGPTConfig, DenseGPTForCausalLM\n",
    "from utils import explore_batch, fetch_or_ask\n",
    "\n",
    "%load_ext autoreload\n",
    "%autoreload 2"
   ]
  },
  {
   "cell_type": "code",
   "execution_count": 3,
   "metadata": {},
   "outputs": [],
   "source": [
    "gdrive_token = fetch_or_ask(\"GDRIVE_CREDENTIALS_DATA\")\n",
    "os.environ[\n",
    "    \"DVC_STUDIO_TOKEN\"\n",
    "] = \"isat_1mr9HNvqAB6xw8OJ3dXe5O9vMaKol59LCoA5gGP3eLY8NoSF8\""
   ]
  },
  {
   "cell_type": "code",
   "execution_count": 5,
   "metadata": {},
   "outputs": [
    {
     "name": "stderr",
     "output_type": "stream",
     "text": [
      "Some weights of DenseGPTForCausalLM were not initialized from the model checkpoint at Mlxa/brackets-flat_shuffle and are newly initialized: ['transformer.connections.4', 'transformer.connections.39', 'transformer.connections.14', 'transformer.connections.40', 'transformer.connections.42', 'transformer.connections.28', 'transformer.connections.20', 'transformer.connections.25', 'transformer.connections.13', 'transformer.connections.9', 'transformer.connections.21', 'transformer.connections.27', 'transformer.connections.43', 'transformer.connections.2', 'transformer.connections.36', 'transformer.connections.16', 'transformer.connections.19', 'transformer.connections.7', 'transformer.connections.6', 'transformer.connections.31', 'transformer.connections.10', 'transformer.connections.17', 'transformer.connections.35', 'transformer.connections.18', 'transformer.connections.38', 'transformer.connections.11', 'transformer.connections.34', 'transformer.connections.41', 'transformer.connections.37', 'transformer.connections.30', 'transformer.connections.0', 'transformer.connections.29', 'transformer.connections.23', 'transformer.connections.5', 'transformer.connections.26', 'transformer.connections.44', 'transformer.connections.8', 'transformer.connections.12', 'transformer.connections.15', 'transformer.connections.1', 'transformer.connections.3', 'transformer.connections.33', 'transformer.connections.22', 'transformer.connections.24', 'transformer.connections.32']\n",
      "You should probably TRAIN this model on a down-stream task to be able to use it for predictions and inference.\n"
     ]
    }
   ],
   "source": [
    "config = DenseGPTConfig(\n",
    "    vocab_size=502,\n",
    "    hidden_size=256,\n",
    "    num_layers=8,\n",
    "    attention_types=[[[\"global\"], 8]],\n",
    "    num_heads=16,\n",
    "    use_dense=True,\n",
    ")\n",
    "# model = DenseGPTForCausalLM(config)\n",
    "model = DenseGPTForCausalLM.from_pretrained(\"Mlxa/brackets-flat_shuffle\", config=config)"
   ]
  },
  {
   "cell_type": "code",
   "execution_count": 2,
   "metadata": {},
   "outputs": [
    {
     "name": "stderr",
     "output_type": "stream",
     "text": [
      "/home/mike/.local/lib/python3.10/site-packages/datasets/table.py:1421: FutureWarning: promote has been superseded by mode='default'.\n",
      "  table = cls._concat_blocks(blocks, axis=0)\n"
     ]
    }
   ],
   "source": [
    "dataset = load_dataset(\"Mlxa/flat_shuffle\")\n",
    "tokenizer = AutoTokenizer.from_pretrained(\"Mlxa/brackets-nested\")"
   ]
  },
  {
   "cell_type": "code",
   "execution_count": 3,
   "metadata": {},
   "outputs": [],
   "source": [
    "@typed\n",
    "def tokenize_function(example: Mapping[str, str | int]) -> Mapping[str, list[int]]:\n",
    "    result = tokenizer(example[\"text\"])\n",
    "    result[\"labels\"] = result[\"input_ids\"]\n",
    "    return result\n",
    "\n",
    "\n",
    "subset_size = 60000\n",
    "subset = dataset[\"train\"].select(range(subset_size)).to_iterable_dataset()\n",
    "tokenized = subset.map(tokenize_function, batched=True).remove_columns([\"text\"])"
   ]
  },
  {
   "cell_type": "code",
   "execution_count": 6,
   "metadata": {},
   "outputs": [
    {
     "data": {
      "text/html": [
       "<span style=\"background-color: #fae0d4; padding: 1px; margin: 0px; border-radius: 5px;\"><140</span> <span style=\"background-color: #c3d4fe; padding: 1px; margin: 0px; border-radius: 5px;\">140></span> <span style=\"background-color: #f7c4b6; padding: 1px; margin: 0px; border-radius: 5px;\"><135</span> <span style=\"background-color: #f9c8b9; padding: 1px; margin: 0px; border-radius: 5px;\"><138</span> <span style=\"background-color: #f3ebe6; padding: 1px; margin: 0px; border-radius: 5px;\">135></span> <span style=\"background-color: #fae1d5; padding: 1px; margin: 0px; border-radius: 5px;\"><137</span> <span style=\"background-color: #efedec; padding: 1px; margin: 0px; border-radius: 5px;\">137></span> <span style=\"background-color: #e5ecf7; padding: 1px; margin: 0px; border-radius: 5px;\"><139</span> <span style=\"background-color: #d5e3fe; padding: 1px; margin: 0px; border-radius: 5px;\">139></span> <span style=\"background-color: #9da6e0; padding: 1px; margin: 0px; border-radius: 5px;\">138></span>"
      ],
      "text/plain": [
       "<IPython.core.display.HTML object>"
      ]
     },
     "metadata": {},
     "output_type": "display_data"
    },
    {
     "data": {
      "text/html": [
       "<span style=\"background-color: #fbd7c8; padding: 1px; margin: 0px; border-radius: 5px;\"><157</span> <span style=\"background-color: #e29999; padding: 1px; margin: 0px; border-radius: 5px;\"><161</span> <span style=\"background-color: #facdbd; padding: 1px; margin: 0px; border-radius: 5px;\"><158</span> <span style=\"background-color: #fbded2; padding: 1px; margin: 0px; border-radius: 5px;\">161></span> <span style=\"background-color: #f7e6dd; padding: 1px; margin: 0px; border-radius: 5px;\"><159</span> <span style=\"background-color: #e6ecf6; padding: 1px; margin: 0px; border-radius: 5px;\"><160</span> <span style=\"background-color: #f6e9e2; padding: 1px; margin: 0px; border-radius: 5px;\">159></span> <span style=\"background-color: #f2ece8; padding: 1px; margin: 0px; border-radius: 5px;\">157></span> <span style=\"background-color: #d9e5fd; padding: 1px; margin: 0px; border-radius: 5px;\">160></span> <span style=\"background-color: #9da6e0; padding: 1px; margin: 0px; border-radius: 5px;\">158></span>"
      ],
      "text/plain": [
       "<IPython.core.display.HTML object>"
      ]
     },
     "metadata": {},
     "output_type": "display_data"
    },
    {
     "data": {
      "text/html": [
       "<span style=\"background-color: #f4bcaf; padding: 1px; margin: 0px; border-radius: 5px;\"><133</span> <span style=\"background-color: #fbd7c8; padding: 1px; margin: 0px; border-radius: 5px;\">132></span> <span style=\"background-color: #e69f9c; padding: 1px; margin: 0px; border-radius: 5px;\"><138</span> <span style=\"background-color: #fbdacc; padding: 1px; margin: 0px; border-radius: 5px;\"><137</span> <span style=\"background-color: #e2eaf9; padding: 1px; margin: 0px; border-radius: 5px;\"><136</span> <span style=\"background-color: #fadfd2; padding: 1px; margin: 0px; border-radius: 5px;\">133></span> <span style=\"background-color: #f3ebe7; padding: 1px; margin: 0px; border-radius: 5px;\">138></span> <span style=\"background-color: #e8edf4; padding: 1px; margin: 0px; border-radius: 5px;\">134></span> <span style=\"background-color: #d9e6fd; padding: 1px; margin: 0px; border-radius: 5px;\">136></span> <span style=\"background-color: #9da6e0; padding: 1px; margin: 0px; border-radius: 5px;\">137></span>"
      ],
      "text/plain": [
       "<IPython.core.display.HTML object>"
      ]
     },
     "metadata": {},
     "output_type": "display_data"
    },
    {
     "data": {
      "text/html": [
       "<span style=\"background-color: #f4eae5; padding: 1px; margin: 0px; border-radius: 5px;\">155></span> <span style=\"background-color: #f5beb0; padding: 1px; margin: 0px; border-radius: 5px;\"><158</span> <span style=\"background-color: #f3ebe6; padding: 1px; margin: 0px; border-radius: 5px;\">158></span> <span style=\"background-color: #bed0fc; padding: 1px; margin: 0px; border-radius: 5px;\">156></span> <span style=\"background-color: #f7e7de; padding: 1px; margin: 0px; border-radius: 5px;\"><159</span> <span style=\"background-color: #c2d4fd; padding: 1px; margin: 0px; border-radius: 5px;\">159></span> <span style=\"background-color: #d1e0ff; padding: 1px; margin: 0px; border-radius: 5px;\"><160</span> <span style=\"background-color: #cadbff; padding: 1px; margin: 0px; border-radius: 5px;\">160></span> <span style=\"background-color: #9da6e0; padding: 1px; margin: 0px; border-radius: 5px;\"><161</span> <span style=\"background-color: #9da6e0; padding: 1px; margin: 0px; border-radius: 5px;\">161></span>"
      ],
      "text/plain": [
       "<IPython.core.display.HTML object>"
      ]
     },
     "metadata": {},
     "output_type": "display_data"
    },
    {
     "data": {
      "text/html": [
       "<span style=\"background-color: #fae1d5; padding: 1px; margin: 0px; border-radius: 5px;\"><76</span> <span style=\"background-color: #f1b5a9; padding: 1px; margin: 0px; border-radius: 5px;\">74></span> <span style=\"background-color: #f3ebe7; padding: 1px; margin: 0px; border-radius: 5px;\"><79</span> <span style=\"background-color: #fad0c1; padding: 1px; margin: 0px; border-radius: 5px;\">77></span> <span style=\"background-color: #f4bcaf; padding: 1px; margin: 0px; border-radius: 5px;\">73></span> <span style=\"background-color: #fae2d6; padding: 1px; margin: 0px; border-radius: 5px;\">75></span> <span style=\"background-color: #edeeef; padding: 1px; margin: 0px; border-radius: 5px;\">76></span> <span style=\"background-color: #e1eaf9; padding: 1px; margin: 0px; border-radius: 5px;\">79></span> <span style=\"background-color: #e5ecf7; padding: 1px; margin: 0px; border-radius: 5px;\">80></span> <span style=\"background-color: #9da6e0; padding: 1px; margin: 0px; border-radius: 5px;\">138></span>"
      ],
      "text/plain": [
       "<IPython.core.display.HTML object>"
      ]
     },
     "metadata": {},
     "output_type": "display_data"
    },
    {
     "data": {
      "text/html": [
       "<span style=\"background-color: #f2ece8; padding: 1px; margin: 0px; border-radius: 5px;\">221></span> <span style=\"background-color: #d1e0ff; padding: 1px; margin: 0px; border-radius: 5px;\">224></span> <span style=\"background-color: #fbd8c9; padding: 1px; margin: 0px; border-radius: 5px;\"><220</span> <span style=\"background-color: #cdddff; padding: 1px; margin: 0px; border-radius: 5px;\">220></span> <span style=\"background-color: #fae1d5; padding: 1px; margin: 0px; border-radius: 5px;\"><225</span> <span style=\"background-color: #f9cabb; padding: 1px; margin: 0px; border-radius: 5px;\"><226</span> <span style=\"background-color: #f3ebe7; padding: 1px; margin: 0px; border-radius: 5px;\">226></span> <span style=\"background-color: #fae2d6; padding: 1px; margin: 0px; border-radius: 5px;\"><219</span> <span style=\"background-color: #e7ecf5; padding: 1px; margin: 0px; border-radius: 5px;\">219></span> <span style=\"background-color: #9da6e0; padding: 1px; margin: 0px; border-radius: 5px;\">225></span>"
      ],
      "text/plain": [
       "<IPython.core.display.HTML object>"
      ]
     },
     "metadata": {},
     "output_type": "display_data"
    },
    {
     "data": {
      "text/html": [
       "<span style=\"background-color: #f3ebe7; padding: 1px; margin: 0px; border-radius: 5px;\">227></span> <span style=\"background-color: #cadaff; padding: 1px; margin: 0px; border-radius: 5px;\">226></span> <span style=\"background-color: #f7e7de; padding: 1px; margin: 0px; border-radius: 5px;\"><229</span> <span style=\"background-color: #f3baae; padding: 1px; margin: 0px; border-radius: 5px;\"><225</span> <span style=\"background-color: #f9c9ba; padding: 1px; margin: 0px; border-radius: 5px;\"><231</span> <span style=\"background-color: #fbd9ca; padding: 1px; margin: 0px; border-radius: 5px;\"><224</span> <span style=\"background-color: #fae0d4; padding: 1px; margin: 0px; border-radius: 5px;\">229></span> <span style=\"background-color: #ebedf1; padding: 1px; margin: 0px; border-radius: 5px;\">225></span> <span style=\"background-color: #dde8fb; padding: 1px; margin: 0px; border-radius: 5px;\">231></span> <span style=\"background-color: #9da6e0; padding: 1px; margin: 0px; border-radius: 5px;\">224></span>"
      ],
      "text/plain": [
       "<IPython.core.display.HTML object>"
      ]
     },
     "metadata": {},
     "output_type": "display_data"
    },
    {
     "data": {
      "text/html": [
       "<span style=\"background-color: #f9cbbc; padding: 1px; margin: 0px; border-radius: 5px;\"><122</span> <span style=\"background-color: #c6d7fe; padding: 1px; margin: 0px; border-radius: 5px;\">122></span> <span style=\"background-color: #fbd3c3; padding: 1px; margin: 0px; border-radius: 5px;\"><116</span> <span style=\"background-color: #c1d2fd; padding: 1px; margin: 0px; border-radius: 5px;\">116></span> <span style=\"background-color: #f3ebe7; padding: 1px; margin: 0px; border-radius: 5px;\"><120</span> <span style=\"background-color: #c7d8fe; padding: 1px; margin: 0px; border-radius: 5px;\">120></span> <span style=\"background-color: #f8e5db; padding: 1px; margin: 0px; border-radius: 5px;\"><115</span> <span style=\"background-color: #c7d8fe; padding: 1px; margin: 0px; border-radius: 5px;\">115></span> <span style=\"background-color: #9da6e0; padding: 1px; margin: 0px; border-radius: 5px;\"><119</span> <span style=\"background-color: #9da6e0; padding: 1px; margin: 0px; border-radius: 5px;\">119></span>"
      ],
      "text/plain": [
       "<IPython.core.display.HTML object>"
      ]
     },
     "metadata": {},
     "output_type": "display_data"
    },
    {
     "data": {
      "text/html": [
       "<span style=\"background-color: #e9a59f; padding: 1px; margin: 0px; border-radius: 5px;\"><212</span> <span style=\"background-color: #f8c6b7; padding: 1px; margin: 0px; border-radius: 5px;\"><215</span> <span style=\"background-color: #f6e9e2; padding: 1px; margin: 0px; border-radius: 5px;\">212></span> <span style=\"background-color: #f9cabb; padding: 1px; margin: 0px; border-radius: 5px;\"><213</span> <span style=\"background-color: #fbdbcd; padding: 1px; margin: 0px; border-radius: 5px;\"><214</span> <span style=\"background-color: #fbd8ca; padding: 1px; margin: 0px; border-radius: 5px;\">213></span> <span style=\"background-color: #f6e7e0; padding: 1px; margin: 0px; border-radius: 5px;\">214></span> <span style=\"background-color: #e0e9fa; padding: 1px; margin: 0px; border-radius: 5px;\"><218</span> <span style=\"background-color: #c9daff; padding: 1px; margin: 0px; border-radius: 5px;\">215></span> <span style=\"background-color: #9da6e0; padding: 1px; margin: 0px; border-radius: 5px;\">218></span>"
      ],
      "text/plain": [
       "<IPython.core.display.HTML object>"
      ]
     },
     "metadata": {},
     "output_type": "display_data"
    },
    {
     "data": {
      "text/html": [
       "<span style=\"background-color: #fbd1c2; padding: 1px; margin: 0px; border-radius: 5px;\">247></span> <span style=\"background-color: #fbddd0; padding: 1px; margin: 0px; border-radius: 5px;\">244></span> <span style=\"background-color: #f0edeb; padding: 1px; margin: 0px; border-radius: 5px;\">240></span> <span style=\"background-color: #c5d6fe; padding: 1px; margin: 0px; border-radius: 5px;\">243></span> <span style=\"background-color: #ebedf2; padding: 1px; margin: 0px; border-radius: 5px;\"><242</span> <span style=\"background-color: #fbd7c8; padding: 1px; margin: 0px; border-radius: 5px;\"><246</span> <span style=\"background-color: #f4eae4; padding: 1px; margin: 0px; border-radius: 5px;\">242></span> <span style=\"background-color: #e9edf3; padding: 1px; margin: 0px; border-radius: 5px;\"><245</span> <span style=\"background-color: #d1e0ff; padding: 1px; margin: 0px; border-radius: 5px;\">246></span> <span style=\"background-color: #9da6e0; padding: 1px; margin: 0px; border-radius: 5px;\">245></span>"
      ],
      "text/plain": [
       "<IPython.core.display.HTML object>"
      ]
     },
     "metadata": {},
     "output_type": "display_data"
    },
    {
     "data": {
      "text/html": [
       "<span style=\"background-color: #f8e5dc; padding: 1px; margin: 0px; border-radius: 5px;\"><51</span> <span style=\"background-color: #e0e9fa; padding: 1px; margin: 0px; border-radius: 5px;\"><52</span> <span style=\"background-color: #f5beb0; padding: 1px; margin: 0px; border-radius: 5px;\">53></span> <span style=\"background-color: #fbd6c7; padding: 1px; margin: 0px; border-radius: 5px;\">50></span> <span style=\"background-color: #fbded2; padding: 1px; margin: 0px; border-radius: 5px;\">52></span> <span style=\"background-color: #fbddcf; padding: 1px; margin: 0px; border-radius: 5px;\">55></span> <span style=\"background-color: #eeeeed; padding: 1px; margin: 0px; border-radius: 5px;\">160></span> <span style=\"background-color: #bfd0fc; padding: 1px; margin: 0px; border-radius: 5px;\">51></span> <span style=\"background-color: #e3ebf8; padding: 1px; margin: 0px; border-radius: 5px;\">159></span> <span style=\"background-color: #9da6e0; padding: 1px; margin: 0px; border-radius: 5px;\">56></span>"
      ],
      "text/plain": [
       "<IPython.core.display.HTML object>"
      ]
     },
     "metadata": {},
     "output_type": "display_data"
    },
    {
     "data": {
      "text/html": [
       "<span style=\"background-color: #facebf; padding: 1px; margin: 0px; border-radius: 5px;\">51></span> <span style=\"background-color: #fae1d5; padding: 1px; margin: 0px; border-radius: 5px;\">56></span> <span style=\"background-color: #f6c0b2; padding: 1px; margin: 0px; border-radius: 5px;\"><53</span> <span style=\"background-color: #fbdbcd; padding: 1px; margin: 0px; border-radius: 5px;\">55></span> <span style=\"background-color: #f4eae4; padding: 1px; margin: 0px; border-radius: 5px;\">53></span> <span style=\"background-color: #fbd8ca; padding: 1px; margin: 0px; border-radius: 5px;\"><54</span> <span style=\"background-color: #f9e4da; padding: 1px; margin: 0px; border-radius: 5px;\"><57</span> <span style=\"background-color: #f0edeb; padding: 1px; margin: 0px; border-radius: 5px;\">52></span> <span style=\"background-color: #d3e1fe; padding: 1px; margin: 0px; border-radius: 5px;\">57></span> <span style=\"background-color: #9da6e0; padding: 1px; margin: 0px; border-radius: 5px;\">54></span>"
      ],
      "text/plain": [
       "<IPython.core.display.HTML object>"
      ]
     },
     "metadata": {},
     "output_type": "display_data"
    },
    {
     "data": {
      "text/html": [
       "<span style=\"background-color: #f0b4a9; padding: 1px; margin: 0px; border-radius: 5px;\">141></span> <span style=\"background-color: #fbd5c6; padding: 1px; margin: 0px; border-radius: 5px;\">170></span> <span style=\"background-color: #fad0c1; padding: 1px; margin: 0px; border-radius: 5px;\">172></span> <span style=\"background-color: #f5beb0; padding: 1px; margin: 0px; border-radius: 5px;\">199></span> <span style=\"background-color: #f9cbbc; padding: 1px; margin: 0px; border-radius: 5px;\">200></span> <span style=\"background-color: #f9e3d8; padding: 1px; margin: 0px; border-radius: 5px;\">203></span> <span style=\"background-color: #d7e5fd; padding: 1px; margin: 0px; border-radius: 5px;\">168></span> <span style=\"background-color: #d4e2fe; padding: 1px; margin: 0px; border-radius: 5px;\">169></span> <span style=\"background-color: #d1e0ff; padding: 1px; margin: 0px; border-radius: 5px;\">180></span> <span style=\"background-color: #abb9f0; padding: 1px; margin: 0px; border-radius: 5px;\">202></span>"
      ],
      "text/plain": [
       "<IPython.core.display.HTML object>"
      ]
     },
     "metadata": {},
     "output_type": "display_data"
    },
    {
     "data": {
      "text/html": [
       "<span style=\"background-color: #f9e3d8; padding: 1px; margin: 0px; border-radius: 5px;\"><93</span> <span style=\"background-color: #c1d3fd; padding: 1px; margin: 0px; border-radius: 5px;\">93></span> <span style=\"background-color: #fbdcce; padding: 1px; margin: 0px; border-radius: 5px;\"><97</span> <span style=\"background-color: #cbdcff; padding: 1px; margin: 0px; border-radius: 5px;\">97></span> <span style=\"background-color: #f0edeb; padding: 1px; margin: 0px; border-radius: 5px;\"><96</span> <span style=\"background-color: #c8d9ff; padding: 1px; margin: 0px; border-radius: 5px;\">96></span> <span style=\"background-color: #d7e4fe; padding: 1px; margin: 0px; border-radius: 5px;\"><94</span> <span style=\"background-color: #e6ecf6; padding: 1px; margin: 0px; border-radius: 5px;\"><95</span> <span style=\"background-color: #d2e1ff; padding: 1px; margin: 0px; border-radius: 5px;\">94></span> <span style=\"background-color: #9da6e0; padding: 1px; margin: 0px; border-radius: 5px;\">95></span>"
      ],
      "text/plain": [
       "<IPython.core.display.HTML object>"
      ]
     },
     "metadata": {},
     "output_type": "display_data"
    },
    {
     "data": {
      "text/html": [
       "<span style=\"background-color: #efb2a7; padding: 1px; margin: 0px; border-radius: 5px;\">241></span> <span style=\"background-color: #f6c0b2; padding: 1px; margin: 0px; border-radius: 5px;\">6></span> <span style=\"background-color: #f0b3a8; padding: 1px; margin: 0px; border-radius: 5px;\">245></span> <span style=\"background-color: #fae1d5; padding: 1px; margin: 0px; border-radius: 5px;\">169></span> <span style=\"background-color: #fae1d5; padding: 1px; margin: 0px; border-radius: 5px;\"><246</span> <span style=\"background-color: #fbd7c8; padding: 1px; margin: 0px; border-radius: 5px;\">247></span> <span style=\"background-color: #ecedf0; padding: 1px; margin: 0px; border-radius: 5px;\">242></span> <span style=\"background-color: #d1e0ff; padding: 1px; margin: 0px; border-radius: 5px;\"><243</span> <span style=\"background-color: #e1eaf9; padding: 1px; margin: 0px; border-radius: 5px;\">246></span> <span style=\"background-color: #9da6e0; padding: 1px; margin: 0px; border-radius: 5px;\">243></span>"
      ],
      "text/plain": [
       "<IPython.core.display.HTML object>"
      ]
     },
     "metadata": {},
     "output_type": "display_data"
    },
    {
     "data": {
      "text/html": [
       "<span style=\"background-color: #f3baad; padding: 1px; margin: 0px; border-radius: 5px;\"><108</span> <span style=\"background-color: #f7c3b5; padding: 1px; margin: 0px; border-radius: 5px;\"><106</span> <span style=\"background-color: #fad0c1; padding: 1px; margin: 0px; border-radius: 5px;\">103></span> <span style=\"background-color: #fbd4c5; padding: 1px; margin: 0px; border-radius: 5px;\"><109</span> <span style=\"background-color: #facfbf; padding: 1px; margin: 0px; border-radius: 5px;\">104></span> <span style=\"background-color: #fbdbce; padding: 1px; margin: 0px; border-radius: 5px;\">106></span> <span style=\"background-color: #e9edf3; padding: 1px; margin: 0px; border-radius: 5px;\">108></span> <span style=\"background-color: #c0d2fd; padding: 1px; margin: 0px; border-radius: 5px;\">109></span> <span style=\"background-color: #9da6e0; padding: 1px; margin: 0px; border-radius: 5px;\"><105</span> <span style=\"background-color: #9da6e0; padding: 1px; margin: 0px; border-radius: 5px;\">105></span>"
      ],
      "text/plain": [
       "<IPython.core.display.HTML object>"
      ]
     },
     "metadata": {},
     "output_type": "display_data"
    },
    {
     "data": {
      "text/html": [
       "<span style=\"background-color: #f5e9e3; padding: 1px; margin: 0px; border-radius: 5px;\">128></span> <span style=\"background-color: #efb2a7; padding: 1px; margin: 0px; border-radius: 5px;\"><130</span> <span style=\"background-color: #f0edeb; padding: 1px; margin: 0px; border-radius: 5px;\">130></span> <span style=\"background-color: #e7a39e; padding: 1px; margin: 0px; border-radius: 5px;\"><123</span> <span style=\"background-color: #f3ebe7; padding: 1px; margin: 0px; border-radius: 5px;\">126></span> <span style=\"background-color: #fbd6c7; padding: 1px; margin: 0px; border-radius: 5px;\"><124</span> <span style=\"background-color: #f1ecea; padding: 1px; margin: 0px; border-radius: 5px;\">124></span> <span style=\"background-color: #ecedf0; padding: 1px; margin: 0px; border-radius: 5px;\"><129</span> <span style=\"background-color: #dae6fd; padding: 1px; margin: 0px; border-radius: 5px;\">123></span> <span style=\"background-color: #9da6e0; padding: 1px; margin: 0px; border-radius: 5px;\">129></span>"
      ],
      "text/plain": [
       "<IPython.core.display.HTML object>"
      ]
     },
     "metadata": {},
     "output_type": "display_data"
    },
    {
     "data": {
      "text/html": [
       "<span style=\"background-color: #fbd9cb; padding: 1px; margin: 0px; border-radius: 5px;\"><229</span> <span style=\"background-color: #c3d4fe; padding: 1px; margin: 0px; border-radius: 5px;\">229></span> <span style=\"background-color: #f3b9ac; padding: 1px; margin: 0px; border-radius: 5px;\"><234</span> <span style=\"background-color: #c5d6fe; padding: 1px; margin: 0px; border-radius: 5px;\">234></span> <span style=\"background-color: #f2ece8; padding: 1px; margin: 0px; border-radius: 5px;\"><231</span> <span style=\"background-color: #fbd4c5; padding: 1px; margin: 0px; border-radius: 5px;\"><228</span> <span style=\"background-color: #f6e8e0; padding: 1px; margin: 0px; border-radius: 5px;\">228></span> <span style=\"background-color: #c6d7fe; padding: 1px; margin: 0px; border-radius: 5px;\">231></span> <span style=\"background-color: #9da6e0; padding: 1px; margin: 0px; border-radius: 5px;\"><233</span> <span style=\"background-color: #9da6e0; padding: 1px; margin: 0px; border-radius: 5px;\">233></span>"
      ],
      "text/plain": [
       "<IPython.core.display.HTML object>"
      ]
     },
     "metadata": {},
     "output_type": "display_data"
    },
    {
     "data": {
      "text/html": [
       "<span style=\"background-color: #facdbd; padding: 1px; margin: 0px; border-radius: 5px;\"><148</span> <span style=\"background-color: #fbdbcd; padding: 1px; margin: 0px; border-radius: 5px;\"><149</span> <span style=\"background-color: #f8c7b8; padding: 1px; margin: 0px; border-radius: 5px;\">149></span> <span style=\"background-color: #f6c2b3; padding: 1px; margin: 0px; border-radius: 5px;\">146></span> <span style=\"background-color: #f9cbbc; padding: 1px; margin: 0px; border-radius: 5px;\">150></span> <span style=\"background-color: #fbd9cb; padding: 1px; margin: 0px; border-radius: 5px;\">147></span> <span style=\"background-color: #f3ebe6; padding: 1px; margin: 0px; border-radius: 5px;\">148></span> <span style=\"background-color: #bfd1fd; padding: 1px; margin: 0px; border-radius: 5px;\">151></span> <span style=\"background-color: #9da6e0; padding: 1px; margin: 0px; border-radius: 5px;\"><145</span> <span style=\"background-color: #9da6e0; padding: 1px; margin: 0px; border-radius: 5px;\">145></span>"
      ],
      "text/plain": [
       "<IPython.core.display.HTML object>"
      ]
     },
     "metadata": {},
     "output_type": "display_data"
    },
    {
     "data": {
      "text/html": [
       "<span style=\"background-color: #f3ebe7; padding: 1px; margin: 0px; border-radius: 5px;\">97></span> <span style=\"background-color: #e8a49f; padding: 1px; margin: 0px; border-radius: 5px;\"><99</span> <span style=\"background-color: #f6e8e1; padding: 1px; margin: 0px; border-radius: 5px;\">96></span> <span style=\"background-color: #f9c9ba; padding: 1px; margin: 0px; border-radius: 5px;\"><94</span> <span style=\"background-color: #f1ece9; padding: 1px; margin: 0px; border-radius: 5px;\">94></span> <span style=\"background-color: #c3d5fe; padding: 1px; margin: 0px; border-radius: 5px;\">99></span> <span style=\"background-color: #d2e1ff; padding: 1px; margin: 0px; border-radius: 5px;\"><98</span> <span style=\"background-color: #fbd9ca; padding: 1px; margin: 0px; border-radius: 5px;\"><100</span> <span style=\"background-color: #d3e2fe; padding: 1px; margin: 0px; border-radius: 5px;\">98></span> <span style=\"background-color: #9da6e0; padding: 1px; margin: 0px; border-radius: 5px;\">100></span>"
      ],
      "text/plain": [
       "<IPython.core.display.HTML object>"
      ]
     },
     "metadata": {},
     "output_type": "display_data"
    },
    {
     "data": {
      "text/html": [
       "<span style=\"background-color: #f8c6b7; padding: 1px; margin: 0px; border-radius: 5px;\"><8</span> <span style=\"background-color: #fbded2; padding: 1px; margin: 0px; border-radius: 5px;\">4></span> <span style=\"background-color: #f2b8ab; padding: 1px; margin: 0px; border-radius: 5px;\"><3</span> <span style=\"background-color: #f3baad; padding: 1px; margin: 0px; border-radius: 5px;\"><2</span> <span style=\"background-color: #fad0c1; padding: 1px; margin: 0px; border-radius: 5px;\">2></span> <span style=\"background-color: #f9e3d8; padding: 1px; margin: 0px; border-radius: 5px;\"><7</span> <span style=\"background-color: #f6e9e2; padding: 1px; margin: 0px; border-radius: 5px;\">6></span> <span style=\"background-color: #f5e9e3; padding: 1px; margin: 0px; border-radius: 5px;\">3></span> <span style=\"background-color: #e8edf4; padding: 1px; margin: 0px; border-radius: 5px;\">8></span> <span style=\"background-color: #9da6e0; padding: 1px; margin: 0px; border-radius: 5px;\">7></span>"
      ],
      "text/plain": [
       "<IPython.core.display.HTML object>"
      ]
     },
     "metadata": {},
     "output_type": "display_data"
    },
    {
     "data": {
      "text/html": [
       "<span style=\"background-color: #f6c0b2; padding: 1px; margin: 0px; border-radius: 5px;\">168></span> <span style=\"background-color: #fbdbce; padding: 1px; margin: 0px; border-radius: 5px;\">217></span> <span style=\"background-color: #fad0c1; padding: 1px; margin: 0px; border-radius: 5px;\">169></span> <span style=\"background-color: #cfdfff; padding: 1px; margin: 0px; border-radius: 5px;\">167></span> <span style=\"background-color: #f9c9ba; padding: 1px; margin: 0px; border-radius: 5px;\"><166</span> <span style=\"background-color: #fae0d4; padding: 1px; margin: 0px; border-radius: 5px;\"><170</span> <span style=\"background-color: #f9e2d7; padding: 1px; margin: 0px; border-radius: 5px;\">166></span> <span style=\"background-color: #d3e1fe; padding: 1px; margin: 0px; border-radius: 5px;\">170></span> <span style=\"background-color: #9da6e0; padding: 1px; margin: 0px; border-radius: 5px;\"><172</span> <span style=\"background-color: #9da6e0; padding: 1px; margin: 0px; border-radius: 5px;\">172></span>"
      ],
      "text/plain": [
       "<IPython.core.display.HTML object>"
      ]
     },
     "metadata": {},
     "output_type": "display_data"
    },
    {
     "data": {
      "text/html": [
       "<span style=\"background-color: #fbddcf; padding: 1px; margin: 0px; border-radius: 5px;\"><86</span> <span style=\"background-color: #cadaff; padding: 1px; margin: 0px; border-radius: 5px;\">86></span> <span style=\"background-color: #f6e8e1; padding: 1px; margin: 0px; border-radius: 5px;\"><84</span> <span style=\"background-color: #c3d5fe; padding: 1px; margin: 0px; border-radius: 5px;\">84></span> <span style=\"background-color: #fbded2; padding: 1px; margin: 0px; border-radius: 5px;\"><82</span> <span style=\"background-color: #d3e2fe; padding: 1px; margin: 0px; border-radius: 5px;\">82></span> <span style=\"background-color: #dce7fc; padding: 1px; margin: 0px; border-radius: 5px;\"><85</span> <span style=\"background-color: #fae0d3; padding: 1px; margin: 0px; border-radius: 5px;\"><81</span> <span style=\"background-color: #e1eaf9; padding: 1px; margin: 0px; border-radius: 5px;\">81></span> <span style=\"background-color: #9da6e0; padding: 1px; margin: 0px; border-radius: 5px;\">85></span>"
      ],
      "text/plain": [
       "<IPython.core.display.HTML object>"
      ]
     },
     "metadata": {},
     "output_type": "display_data"
    },
    {
     "data": {
      "text/html": [
       "<span style=\"background-color: #f4eae5; padding: 1px; margin: 0px; border-radius: 5px;\">26></span> <span style=\"background-color: #e29899; padding: 1px; margin: 0px; border-radius: 5px;\"><109</span> <span style=\"background-color: #facfbf; padding: 1px; margin: 0px; border-radius: 5px;\"><107</span> <span style=\"background-color: #f7e7df; padding: 1px; margin: 0px; border-radius: 5px;\">22></span> <span style=\"background-color: #f6e7e0; padding: 1px; margin: 0px; border-radius: 5px;\"><105</span> <span style=\"background-color: #facdbe; padding: 1px; margin: 0px; border-radius: 5px;\">109></span> <span style=\"background-color: #d2e1ff; padding: 1px; margin: 0px; border-radius: 5px;\"><104</span> <span style=\"background-color: #d1e0ff; padding: 1px; margin: 0px; border-radius: 5px;\">107></span> <span style=\"background-color: #c7d8fe; padding: 1px; margin: 0px; border-radius: 5px;\">105></span> <span style=\"background-color: #9da6e0; padding: 1px; margin: 0px; border-radius: 5px;\">104></span>"
      ],
      "text/plain": [
       "<IPython.core.display.HTML object>"
      ]
     },
     "metadata": {},
     "output_type": "display_data"
    },
    {
     "data": {
      "text/html": [
       "<span style=\"background-color: #f0b4a9; padding: 1px; margin: 0px; border-radius: 5px;\"><218</span> <span style=\"background-color: #c6d7fe; padding: 1px; margin: 0px; border-radius: 5px;\">218></span> <span style=\"background-color: #f8e5dc; padding: 1px; margin: 0px; border-radius: 5px;\"><215</span> <span style=\"background-color: #f9c8b9; padding: 1px; margin: 0px; border-radius: 5px;\"><217</span> <span style=\"background-color: #f1ece9; padding: 1px; margin: 0px; border-radius: 5px;\">217></span> <span style=\"background-color: #c4d6fe; padding: 1px; margin: 0px; border-radius: 5px;\">215></span> <span style=\"background-color: #f6e8e1; padding: 1px; margin: 0px; border-radius: 5px;\"><211</span> <span style=\"background-color: #d9e5fd; padding: 1px; margin: 0px; border-radius: 5px;\"><216</span> <span style=\"background-color: #d2e1ff; padding: 1px; margin: 0px; border-radius: 5px;\">211></span> <span style=\"background-color: #9da6e0; padding: 1px; margin: 0px; border-radius: 5px;\">216></span>"
      ],
      "text/plain": [
       "<IPython.core.display.HTML object>"
      ]
     },
     "metadata": {},
     "output_type": "display_data"
    },
    {
     "data": {
      "text/html": [
       "<span style=\"background-color: #e49d9b; padding: 1px; margin: 0px; border-radius: 5px;\"><109</span> <span style=\"background-color: #fbd3c4; padding: 1px; margin: 0px; border-radius: 5px;\">109></span> <span style=\"background-color: #efedec; padding: 1px; margin: 0px; border-radius: 5px;\">106></span> <span style=\"background-color: #c5d7fe; padding: 1px; margin: 0px; border-radius: 5px;\">107></span> <span style=\"background-color: #edeeef; padding: 1px; margin: 0px; border-radius: 5px;\"><103</span> <span style=\"background-color: #fae2d6; padding: 1px; margin: 0px; border-radius: 5px;\"><104</span> <span style=\"background-color: #f8e6dc; padding: 1px; margin: 0px; border-radius: 5px;\"><108</span> <span style=\"background-color: #e7ecf5; padding: 1px; margin: 0px; border-radius: 5px;\">103></span> <span style=\"background-color: #c8d9ff; padding: 1px; margin: 0px; border-radius: 5px;\">104></span> <span style=\"background-color: #9da6e0; padding: 1px; margin: 0px; border-radius: 5px;\">108></span>"
      ],
      "text/plain": [
       "<IPython.core.display.HTML object>"
      ]
     },
     "metadata": {},
     "output_type": "display_data"
    },
    {
     "data": {
      "text/html": [
       "<span style=\"background-color: #efedec; padding: 1px; margin: 0px; border-radius: 5px;\">247></span> <span style=\"background-color: #c8d9ff; padding: 1px; margin: 0px; border-radius: 5px;\">243></span> <span style=\"background-color: #f9e4da; padding: 1px; margin: 0px; border-radius: 5px;\"><242</span> <span style=\"background-color: #fad0c0; padding: 1px; margin: 0px; border-radius: 5px;\"><246</span> <span style=\"background-color: #f3ebe6; padding: 1px; margin: 0px; border-radius: 5px;\">246></span> <span style=\"background-color: #efb2a7; padding: 1px; margin: 0px; border-radius: 5px;\"><249</span> <span style=\"background-color: #edeeef; padding: 1px; margin: 0px; border-radius: 5px;\"><245</span> <span style=\"background-color: #eceef0; padding: 1px; margin: 0px; border-radius: 5px;\">245></span> <span style=\"background-color: #cdddff; padding: 1px; margin: 0px; border-radius: 5px;\">249></span> <span style=\"background-color: #9da6e0; padding: 1px; margin: 0px; border-radius: 5px;\">242></span>"
      ],
      "text/plain": [
       "<IPython.core.display.HTML object>"
      ]
     },
     "metadata": {},
     "output_type": "display_data"
    },
    {
     "data": {
      "text/html": [
       "<span style=\"background-color: #edeeef; padding: 1px; margin: 0px; border-radius: 5px;\">144></span> <span style=\"background-color: #f5bfb1; padding: 1px; margin: 0px; border-radius: 5px;\"><143</span> <span style=\"background-color: #facdbd; padding: 1px; margin: 0px; border-radius: 5px;\"><145</span> <span style=\"background-color: #fbd8c9; padding: 1px; margin: 0px; border-radius: 5px;\">147></span> <span style=\"background-color: #f7c3b5; padding: 1px; margin: 0px; border-radius: 5px;\"><148</span> <span style=\"background-color: #e6ecf6; padding: 1px; margin: 0px; border-radius: 5px;\"><146</span> <span style=\"background-color: #f8e5dc; padding: 1px; margin: 0px; border-radius: 5px;\">148></span> <span style=\"background-color: #e6ecf6; padding: 1px; margin: 0px; border-radius: 5px;\">145></span> <span style=\"background-color: #d7e4fe; padding: 1px; margin: 0px; border-radius: 5px;\">143></span> <span style=\"background-color: #9da6e0; padding: 1px; margin: 0px; border-radius: 5px;\">146></span>"
      ],
      "text/plain": [
       "<IPython.core.display.HTML object>"
      ]
     },
     "metadata": {},
     "output_type": "display_data"
    },
    {
     "data": {
      "text/html": [
       "<span style=\"background-color: #f5bfb1; padding: 1px; margin: 0px; border-radius: 5px;\"><116</span> <span style=\"background-color: #efb1a7; padding: 1px; margin: 0px; border-radius: 5px;\"><113</span> <span style=\"background-color: #f9c8b9; padding: 1px; margin: 0px; border-radius: 5px;\">118></span> <span style=\"background-color: #fae0d4; padding: 1px; margin: 0px; border-radius: 5px;\">119></span> <span style=\"background-color: #f4eae5; padding: 1px; margin: 0px; border-radius: 5px;\">116></span> <span style=\"background-color: #c6d7fe; padding: 1px; margin: 0px; border-radius: 5px;\">113></span> <span style=\"background-color: #cedeff; padding: 1px; margin: 0px; border-radius: 5px;\"><114</span> <span style=\"background-color: #cedeff; padding: 1px; margin: 0px; border-radius: 5px;\">114></span> <span style=\"background-color: #d7e4fe; padding: 1px; margin: 0px; border-radius: 5px;\"><120</span> <span style=\"background-color: #9da6e0; padding: 1px; margin: 0px; border-radius: 5px;\">120></span>"
      ],
      "text/plain": [
       "<IPython.core.display.HTML object>"
      ]
     },
     "metadata": {},
     "output_type": "display_data"
    },
    {
     "data": {
      "text/html": [
       "<span style=\"background-color: #eeb0a6; padding: 1px; margin: 0px; border-radius: 5px;\"><212</span> <span style=\"background-color: #facdbd; padding: 1px; margin: 0px; border-radius: 5px;\"><216</span> <span style=\"background-color: #f2b8ab; padding: 1px; margin: 0px; border-radius: 5px;\"><219</span> <span style=\"background-color: #e4ebf7; padding: 1px; margin: 0px; border-radius: 5px;\"><213</span> <span style=\"background-color: #fbd1c2; padding: 1px; margin: 0px; border-radius: 5px;\">216></span> <span style=\"background-color: #fbdbce; padding: 1px; margin: 0px; border-radius: 5px;\">213></span> <span style=\"background-color: #f8e6dc; padding: 1px; margin: 0px; border-radius: 5px;\">218></span> <span style=\"background-color: #f8e5dc; padding: 1px; margin: 0px; border-radius: 5px;\">219></span> <span style=\"background-color: #cfdfff; padding: 1px; margin: 0px; border-radius: 5px;\">217></span> <span style=\"background-color: #9da6e0; padding: 1px; margin: 0px; border-radius: 5px;\">212></span>"
      ],
      "text/plain": [
       "<IPython.core.display.HTML object>"
      ]
     },
     "metadata": {},
     "output_type": "display_data"
    },
    {
     "data": {
      "text/html": [
       "<span style=\"background-color: #f7c4b6; padding: 1px; margin: 0px; border-radius: 5px;\"><214</span> <span style=\"background-color: #efb1a7; padding: 1px; margin: 0px; border-radius: 5px;\">213></span> <span style=\"background-color: #fbd2c3; padding: 1px; margin: 0px; border-radius: 5px;\">216></span> <span style=\"background-color: #fbddcf; padding: 1px; margin: 0px; border-radius: 5px;\"><215</span> <span style=\"background-color: #fbd3c4; padding: 1px; margin: 0px; border-radius: 5px;\">215></span> <span style=\"background-color: #dde8fb; padding: 1px; margin: 0px; border-radius: 5px;\"><217</span> <span style=\"background-color: #f3ebe6; padding: 1px; margin: 0px; border-radius: 5px;\">212></span> <span style=\"background-color: #ebedf1; padding: 1px; margin: 0px; border-radius: 5px;\">214></span> <span style=\"background-color: #c8d9ff; padding: 1px; margin: 0px; border-radius: 5px;\">217></span> <span style=\"background-color: #9da6e0; padding: 1px; margin: 0px; border-radius: 5px;\">218></span>"
      ],
      "text/plain": [
       "<IPython.core.display.HTML object>"
      ]
     },
     "metadata": {},
     "output_type": "display_data"
    },
    {
     "data": {
      "text/html": [
       "<span style=\"background-color: #f6e8e0; padding: 1px; margin: 0px; border-radius: 5px;\">160></span> <span style=\"background-color: #f6c2b3; padding: 1px; margin: 0px; border-radius: 5px;\"><159</span> <span style=\"background-color: #efb2a7; padding: 1px; margin: 0px; border-radius: 5px;\"><162</span> <span style=\"background-color: #fbd8ca; padding: 1px; margin: 0px; border-radius: 5px;\">159></span> <span style=\"background-color: #f5e9e3; padding: 1px; margin: 0px; border-radius: 5px;\">157></span> <span style=\"background-color: #c6d7fe; padding: 1px; margin: 0px; border-radius: 5px;\">162></span> <span style=\"background-color: #d0dfff; padding: 1px; margin: 0px; border-radius: 5px;\"><161</span> <span style=\"background-color: #cdddff; padding: 1px; margin: 0px; border-radius: 5px;\">161></span> <span style=\"background-color: #dbe7fc; padding: 1px; margin: 0px; border-radius: 5px;\"><155</span> <span style=\"background-color: #9da6e0; padding: 1px; margin: 0px; border-radius: 5px;\">155></span>"
      ],
      "text/plain": [
       "<IPython.core.display.HTML object>"
      ]
     },
     "metadata": {},
     "output_type": "display_data"
    },
    {
     "name": "stdout",
     "output_type": "stream",
     "text": [
      "Mean loss: 2.007\n"
     ]
    }
   ],
   "source": [
    "explore_batch(model, tokenizer, tokenized)"
   ]
  }
 ],
 "metadata": {
  "kernelspec": {
   "display_name": "Python 3",
   "language": "python",
   "name": "python3"
  },
  "language_info": {
   "codemirror_mode": {
    "name": "ipython",
    "version": 3
   },
   "file_extension": ".py",
   "mimetype": "text/x-python",
   "name": "python",
   "nbconvert_exporter": "python",
   "pygments_lexer": "ipython3",
   "version": "3.10.12"
  }
 },
 "nbformat": 4,
 "nbformat_minor": 2
}
